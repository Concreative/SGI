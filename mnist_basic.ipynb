{
 "cells": [
  {
   "cell_type": "markdown",
   "metadata": {},
   "source": [
    "![deep_book](images/deep_book.PNG)\n",
    "Online Book : http://neuralnetworksanddeeplearning.com/chap1.html"
   ]
  },
  {
   "cell_type": "code",
   "execution_count": 46,
   "metadata": {},
   "outputs": [],
   "source": [
    "### 라이브러리 불러오기\n",
    "\n",
    "import numpy as np\n",
    "import tensorflow as tf\n",
    "import matplotlib.pyplot as plt\n",
    "%matplotlib inline\n",
    "from tensorflow.examples.tutorials.mnist import input_data\n",
    "# https://github.com/tensorflow/tensorflow/tree/master/tensorflow/examples/tutorials/mnist"
   ]
  },
  {
   "cell_type": "code",
   "execution_count": 47,
   "metadata": {},
   "outputs": [
    {
     "name": "stdout",
     "output_type": "stream",
     "text": [
      "Extracting data/train-images-idx3-ubyte.gz\n",
      "Extracting data/train-labels-idx1-ubyte.gz\n",
      "Extracting data/t10k-images-idx3-ubyte.gz\n",
      "Extracting data/t10k-labels-idx1-ubyte.gz\n"
     ]
    }
   ],
   "source": [
    "### mnist 데이터 불러오기\n",
    "\n",
    "mnist = input_data.read_data_sets('./data/', one_hot = True)\n",
    "training_img = mnist.train.images\n",
    "training_lab = mnist.train.labels\n",
    "test_img = mnist.test.images\n",
    "test_lab = mnist.test.labels"
   ]
  },
  {
   "cell_type": "code",
   "execution_count": 48,
   "metadata": {},
   "outputs": [
    {
     "name": "stdout",
     "output_type": "stream",
     "text": [
      "트레이닝 이미지의 타입은 <class 'numpy.ndarray'> \n",
      "차원은 (55000, 784)\n",
      "선택한 이미지의 라벨은 3\n"
     ]
    },
    {
     "data": {
      "image/png": "[encoded data removed]",
      "text/plain": [
       "<matplotlib.figure.Figure at 0x1a24bdc0f0>"
      ]
     },
     "metadata": {},
     "output_type": "display_data"
    }
   ],
   "source": [
    "### mnist 데이터 살펴보기\n",
    "\n",
    "#데이터 타입과 차원 확인\n",
    "print (\"트레이닝 이미지의 타입은 {}\".format(type(training_img)),\"\\n차원은 {}\".format(np.shape(training_img)))\n",
    "\n",
    "\n",
    "# 임의의 데이터 선택\n",
    "r = np.random.choice(len(training_img), size=1)\n",
    "sample_img = training_img[r]\n",
    "\n",
    "\n",
    "# 784차원의 벡터를 그림으로 그리기 위해 28*28로 사이즈 변경\n",
    "sample_img = np.reshape(sample_img, (28, 28))\n",
    "\n",
    "\n",
    "plt.matshow(sample_img, cmap=plt.get_cmap('gray'))\n",
    "sample_lab = training_lab[r]\n",
    "print (\"선택한 이미지의 라벨은 {}\".format(np.argmax(sample_lab)))"
   ]
  },
  {
   "cell_type": "markdown",
   "metadata": {},
   "source": [
    "# 이미지 데이터\n",
    "![three](images/three.png)"
   ]
  },
  {
   "cell_type": "code",
   "execution_count": null,
   "metadata": {},
   "outputs": [],
   "source": [
    "sample_img"
   ]
  },
  {
   "cell_type": "markdown",
   "metadata": {},
   "source": [
    "# 네트워크\n",
    "![network](images/network.PNG)"
   ]
  },
  {
   "cell_type": "code",
   "execution_count": 51,
   "metadata": {},
   "outputs": [],
   "source": [
    "### 변수 설정 및 네트워크 구성\n",
    "\n",
    "x = tf.placeholder(tf.float32, [None, 784])\n",
    "y = tf.placeholder(tf.float32, [None, 10])\n",
    "\n",
    "W = tf.Variable(tf.random_normal([784, 10]))\n",
    "b = tf.Variable(tf.random_normal([10]))\n",
    "\n",
    "z = tf.matmul(x, W) + b\n",
    "a = tf.nn.softmax(z)\n",
    "\n",
    "cross_entropy = - tf.reduce_sum(y * tf.log(a), reduction_indices=1)\n",
    "cost = tf.reduce_mean(cross_entropy)"
   ]
  },
  {
   "cell_type": "code",
   "execution_count": 52,
   "metadata": {
    "collapsed": true
   },
   "outputs": [],
   "source": [
    "### 정확도 측정\n",
    "\n",
    "correct_prediction = tf.equal(tf.argmax(a,1), tf.argmax(y,1))\n",
    "accuracy = tf.reduce_mean(tf.cast(correct_prediction, tf.float32))"
   ]
  },
  {
   "cell_type": "code",
   "execution_count": 53,
   "metadata": {},
   "outputs": [],
   "source": [
    "### optimizer와 learning rate 설정\n",
    "\n",
    "optimization = tf.train.GradientDescentOptimizer(learning_rate=0.5).minimize(cost)"
   ]
  },
  {
   "cell_type": "code",
   "execution_count": 62,
   "metadata": {},
   "outputs": [
    {
     "name": "stdout",
     "output_type": "stream",
     "text": [
      "0.632782\n"
     ]
    }
   ],
   "source": [
    "sess = tf.Session()\n",
    "sess.run(tf.global_variables_initializer())\n",
    "\n",
    "training_epochs = 50\n",
    "\n",
    "for epoch in range(training_epochs):\n",
    "    sess.run(optimization, feed_dict={x: training_img, y: training_lab})\n",
    "\n",
    "#     batch_size = 100\n",
    "#     total_batch = int(mnist.train.num_examples/batch_size)\n",
    "   \n",
    "#     for iteration in range(total_batch):\n",
    "#         batch_xs, batch_ys = mnist.train.next_batch(batch_size)\n",
    "#         sess.run(optimization, feed_dict={x: batch_xs, y: batch_ys})\n",
    "\n",
    "\n",
    "print(sess.run(accuracy, feed_dict={x: training_img, y: training_lab}))"
   ]
  },
  {
   "cell_type": "code",
   "execution_count": 63,
   "metadata": {},
   "outputs": [
    {
     "name": "stdout",
     "output_type": "stream",
     "text": [
      "0.6485\n"
     ]
    }
   ],
   "source": [
    "print(sess.run(accuracy, feed_dict={x: test_img, y: test_lab}))"
   ]
  }
 ],
 "metadata": {
  "anaconda-cloud": {},
  "kernelspec": {
   "display_name": "Python 3",
   "language": "python",
   "name": "python3"
  },
  "language_info": {
   "codemirror_mode": {
    "name": "ipython",
    "version": 3
   },
   "file_extension": ".py",
   "mimetype": "text/x-python",
   "name": "python",
   "nbconvert_exporter": "python",
   "pygments_lexer": "ipython3",
   "version": "3.6.3"
  }
 },
 "nbformat": 4,
 "nbformat_minor": 1
}
