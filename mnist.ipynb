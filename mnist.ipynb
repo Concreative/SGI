{
 "cells": [
  {
   "cell_type": "code",
   "execution_count": null,
   "metadata": {
    "collapsed": true
   },
   "outputs": [],
   "source": [
    "### 라이브러리 불러오기\n",
    "\n",
    "import numpy as np\n",
    "import tensorflow as tf\n",
    "import matplotlib.pyplot as plt\n",
    "%matplotlib inline\n",
    "from tensorflow.examples.tutorials.mnist import input_data\n",
    "# https://github.com/tensorflow/tensorflow/tree/master/tensorflow/examples/tutorials/mnist"
   ]
  },
  {
   "cell_type": "code",
   "execution_count": null,
   "metadata": {
    "collapsed": true
   },
   "outputs": [],
   "source": [
    "### mnist 데이터 불러오기\n",
    "\n",
    "mnist = input_data.read_data_sets('./data/', one_hot = True)\n",
    "training_img = mnist.train.images\n",
    "training_lab = mnist.train.labels\n",
    "test_img = mnist.test.images\n",
    "test_lab = mnist.test.labels"
   ]
  },
  {
   "cell_type": "code",
   "execution_count": null,
   "metadata": {
    "collapsed": true
   },
   "outputs": [],
   "source": [
    "### mnist 데이터 살펴보기\n",
    "\n",
    "#데이터 타입과 차원 확인\n",
    "print (\"트레이닝 이미지의 타입은 {}\".format(type(training_img)),\"\\n차원은 {}\".format(np.shape(training_img)))\n",
    "\n",
    "\n",
    "# 임의의 데이터 선택\n",
    "r = np.random.choice(len(training_img), size=1)\n",
    "sample_img = training_img[r]\n",
    "\n",
    "\n",
    "# 784차원의 벡터를 그림으로 그리기 위해 28*28로 사이즈 변경\n",
    "sample_img = np.reshape(sample_img, (28, 28))\n",
    "\n",
    "plt.matshow(sample_img, cmap=plt.get_cmap('gray'))\n",
    "sample_lab = training_lab[r]\n",
    "print (\"선택한 이미지의 라벨은 {}\".format(np.argmax(sample_lab)))"
   ]
  },
  {
   "cell_type": "code",
   "execution_count": null,
   "metadata": {
    "collapsed": true
   },
   "outputs": [],
   "source": [
    "sample_lab "
   ]
  },
  {
   "cell_type": "code",
   "execution_count": null,
   "metadata": {
    "collapsed": true
   },
   "outputs": [],
   "source": [
    "sample_img"
   ]
  },
  {
   "cell_type": "code",
   "execution_count": null,
   "metadata": {
    "collapsed": true
   },
   "outputs": [],
   "source": [
    "# 이미지 데이터\n",
    "![three](images/three.png)"
   ]
  },
  {
   "cell_type": "code",
   "execution_count": null,
   "metadata": {
    "collapsed": true
   },
   "outputs": [],
   "source": [
    "# 네트워크\n",
    "![network](images/network.PNG)"
   ]
  },
  {
   "cell_type": "code",
   "execution_count": null,
   "metadata": {
    "collapsed": true
   },
   "outputs": [],
   "source": [
    "### 네트워크 구조 및 가중치 설정\n",
    "\n",
    "# INPUTS AND OUTPUTS\n",
    "n_input = 784 \n",
    "n_class  = 10  \n",
    "\n",
    "# PLACEHOLDER\n",
    "x = tf.placeholder(\"float\", [None, n_input])\n",
    "y = tf.placeholder(\"float\", [None, n_class])\n",
    "\n",
    "# WEIGHTS\n",
    "weights =  tf.Variable(tf.random_normal([n_input, n_class], mean=0.0, stddev=1.0))\n",
    "bias = tf.Variable(tf.random_normal([n_class]))"
   ]
  },
  {
   "cell_type": "code",
   "execution_count": null,
   "metadata": {
    "collapsed": true
   },
   "outputs": [],
   "source": [
    "### 네트워크 정의\n",
    "\n",
    "output = tf.matmul(x, weights) + bias\n",
    "output_activation = tf.nn.softmax_cross_entropy_with_logits(labels = y , logits = output)\n",
    "cost = tf.reduce_mean(output_activation) "
   ]
  },
  {
   "cell_type": "code",
   "execution_count": null,
   "metadata": {
    "collapsed": true
   },
   "outputs": [],
   "source": [
    "# 가중치 업데이트 (최적화)\n",
    "optm = tf.train.GradientDescentOptimizer(learning_rate=0.5).minimize(cost) \n",
    "corr = tf.equal(tf.argmax(output, 1), tf.argmax(y, 1))    \n",
    "accr = tf.reduce_mean(tf.cast(corr, \"float\"))\n",
    "\n",
    "\n",
    "init = tf.global_variables_initializer()\n",
    "sess = tf.Session()\n",
    "sess.run(init)"
   ]
  },
  {
   "cell_type": "code",
   "execution_count": null,
   "metadata": {
    "collapsed": true
   },
   "outputs": [],
   "source": [
    "# PARAMETERS\n",
    "training_epochs = 300\n",
    "display_step    = 4\n",
    "\n",
    "# OPTIMIZE\n",
    "for epoch in range(training_epochs):\n",
    "\n",
    "    sess.run(optm, feed_dict={x : training_img, y : training_lab})\n",
    "    error = sess.run(cost, feed_dict={x : training_img, y : training_lab})\n",
    "    # DISPLAY\n",
    "    if (epoch+1) % display_step == 0:\n",
    "        print (\"Epoch: %03d/%03d cost: %.9f\" % (epoch, training_epochs, error))\n",
    "        feeds = {x: training_img, y: training_lab}\n",
    "        train_acc = sess.run(accr, feed_dict=feeds)\n",
    "        print (\"TRAIN ACCURACY: %.3f\" % (train_acc))\n",
    "        feeds = {x: test_img, y: test_lab}\n",
    "        pred, test_corr, test_acc = sess.run([tf.argmax(output, 1), corr, accr], feed_dict=feeds)\n",
    "        print (\"TEST ACCURACY: %.3f\" % (test_acc))\n",
    "print (\"OPTIMIZATION FINISHED\")"
   ]
  },
  {
   "cell_type": "code",
   "execution_count": null,
   "metadata": {
    "collapsed": true
   },
   "outputs": [],
   "source": [
    "def image_show(*args):\n",
    "    \n",
    "\n",
    "    images = {}\n",
    "    pred_labels = {}\n",
    "    target_labels = {}\n",
    "    \n",
    "    fig, axes = plt.subplots(len(args)//5+1, 5,  figsize = (30, 6*len(args)//5+1))\n",
    "   \n",
    "    for k in range(5-(len(args)%5)):\n",
    "        fig.delaxes(axes[len(args)//5][4-k])\n",
    "    \n",
    "    i = 0\n",
    "    for i in args:\n",
    "        images[i] = np.reshape(test_img[np.where(test_corr==False)[0][i]],(28,28))\n",
    "        pred_labels[i] = pred[np.where(test_corr==False)[0][i]]\n",
    "        target_labels[i] = test_lab[np.where(test_corr==False)[0][i]]\n",
    "        axes[args.index(i)//5, args.index(i)%5].set_title(\"Target : {}\".format(np.argmax(target_labels[i])) +\n",
    "                                  \"\\nPrediction : {}\".format(pred_labels[i] ),  fontsize=30)    \n",
    "        axes[args.index(i)//5, args.index(i)%5].imshow(images[i], cmap=plt.get_cmap('gray'))\n",
    "        fig.tight_layout()\n",
    "        axes[args.index(i)//5, args.index(i)%5].set_aspect('equal')        \n",
    "        i += 1  \n",
    "    plt.show()    "
   ]
  },
  {
   "cell_type": "code",
   "execution_count": null,
   "metadata": {
    "collapsed": true
   },
   "outputs": [],
   "source": [
    "image_show(13,14,15,16,17)"
   ]
  }
 ],
 "metadata": {
  "kernelspec": {
   "display_name": "Python 3",
   "language": "python",
   "name": "python3"
  },
  "language_info": {
   "codemirror_mode": {
    "name": "ipython",
    "version": 3
   },
   "file_extension": ".py",
   "mimetype": "text/x-python",
   "name": "python",
   "nbconvert_exporter": "python",
   "pygments_lexer": "ipython3",
   "version": "3.6.3"
  }
 },
 "nbformat": 4,
 "nbformat_minor": 2
}
